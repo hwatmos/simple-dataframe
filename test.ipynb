{
 "cells": [
  {
   "cell_type": "code",
   "execution_count": 2,
   "id": "cfe467a0-88ea-4b86-976b-066a1f02e180",
   "metadata": {},
   "outputs": [],
   "source": [
    "import csv"
   ]
  },
  {
   "cell_type": "code",
   "execution_count": 23,
   "id": "eb5bf96f-5075-4256-8c1b-f620cf1da4e5",
   "metadata": {},
   "outputs": [],
   "source": [
    "df = DataFrame()"
   ]
  },
  {
   "cell_type": "code",
   "execution_count": 35,
   "id": "f613aa97-3c43-4a1c-8372-66af97735ba1",
   "metadata": {},
   "outputs": [],
   "source": [
    "df.read_csv('input_test.csv')"
   ]
  },
  {
   "cell_type": "code",
   "execution_count": 25,
   "id": "4f913fa7-9896-460d-b2dc-ef311aa9037e",
   "metadata": {},
   "outputs": [],
   "source": [
    "df.to_csv('output_test.csv')"
   ]
  },
  {
   "cell_type": "code",
   "execution_count": 26,
   "id": "cf6438fe-e98a-4855-bc58-0c8c2fe9cd6f",
   "metadata": {},
   "outputs": [
    {
     "data": {
      "text/plain": [
       "[['a', ' A', ' 11'], ['b', ' B', ' 21'], ['c', ' C', ' 13']]"
      ]
     },
     "execution_count": 26,
     "metadata": {},
     "output_type": "execute_result"
    }
   ],
   "source": [
    "df"
   ]
  },
  {
   "cell_type": "code",
   "execution_count": 27,
   "id": "8c6c4a98-0e87-46da-9b50-df334572e3a9",
   "metadata": {},
   "outputs": [
    {
     "data": {
      "text/plain": [
       "['col_a', ' col_b', ' col_num']"
      ]
     },
     "execution_count": 27,
     "metadata": {},
     "output_type": "execute_result"
    }
   ],
   "source": [
    "df.columns"
   ]
  },
  {
   "cell_type": "code",
   "execution_count": 28,
   "id": "cc67629b-b568-44be-8bb9-95cdcc4c7c9d",
   "metadata": {},
   "outputs": [
    {
     "data": {
      "text/plain": [
       "['a', 'b', 'c']"
      ]
     },
     "execution_count": 28,
     "metadata": {},
     "output_type": "execute_result"
    }
   ],
   "source": [
    "df['col_a']"
   ]
  },
  {
   "cell_type": "code",
   "execution_count": 29,
   "id": "a55f61c1-4514-460d-8f7a-17c04475c196",
   "metadata": {},
   "outputs": [
    {
     "data": {
      "text/plain": [
       "['b', ' B', ' 21']"
      ]
     },
     "execution_count": 29,
     "metadata": {},
     "output_type": "execute_result"
    }
   ],
   "source": [
    "df[1]"
   ]
  },
  {
   "cell_type": "code",
   "execution_count": 32,
   "id": "c717aa7c-6d13-4d7a-a723-5da6d2b7e394",
   "metadata": {},
   "outputs": [
    {
     "data": {
      "text/plain": [
       "True"
      ]
     },
     "execution_count": 32,
     "metadata": {},
     "output_type": "execute_result"
    }
   ],
   "source": [
    "isinstance((1,2,3),tuple)"
   ]
  },
  {
   "cell_type": "code",
   "execution_count": 33,
   "id": "5e46e52e-2b7d-472b-a724-64db9ea571bc",
   "metadata": {},
   "outputs": [],
   "source": [
    "df[1]='a'"
   ]
  },
  {
   "cell_type": "code",
   "execution_count": 34,
   "id": "6c3da326-8666-4dc8-8647-6fafea2c0461",
   "metadata": {
    "scrolled": true
   },
   "outputs": [
    {
     "data": {
      "text/plain": [
       "[['a', ' A', ' 11'], 'a', ['c', ' C', ' 13']]"
      ]
     },
     "execution_count": 34,
     "metadata": {},
     "output_type": "execute_result"
    }
   ],
   "source": [
    "df"
   ]
  },
  {
   "cell_type": "code",
   "execution_count": 52,
   "id": "c537bcc2-441d-489c-be38-1c7751f113e3",
   "metadata": {},
   "outputs": [
    {
     "name": "stdout",
     "output_type": "stream",
     "text": [
      "no\n"
     ]
    }
   ],
   "source": [
    "try:\n",
    "    iter(3)\n",
    "    print('yes')\n",
    "except:\n",
    "    print('no')\n",
    "    "
   ]
  },
  {
   "cell_type": "code",
   "execution_count": 54,
   "id": "43c4e94b-8550-4624-bf80-56db4af0e1e6",
   "metadata": {},
   "outputs": [],
   "source": [
    "t = type(4)"
   ]
  },
  {
   "cell_type": "code",
   "execution_count": 56,
   "id": "1c35fccb-d493-444b-a545-a03393cf4d53",
   "metadata": {},
   "outputs": [
    {
     "data": {
      "text/plain": [
       "True"
      ]
     },
     "execution_count": 56,
     "metadata": {},
     "output_type": "execute_result"
    }
   ],
   "source": [
    "t==int"
   ]
  },
  {
   "cell_type": "code",
   "execution_count": 53,
   "id": "324b1716-7431-423d-a9f9-ea88a309d194",
   "metadata": {},
   "outputs": [
    {
     "name": "stdout",
     "output_type": "stream",
     "text": [
      "<class 'str'>\n",
      "<class 'int'>\n",
      "<class 'float'>\n",
      "<class 'tuple'>\n",
      "<class 'list'>\n",
      "<class 'dict'>\n"
     ]
    }
   ],
   "source": [
    "for i in ('string', 2, 3.5, (1,2,3),[4,5,6],{3:2,2:4}):\n",
    "    print(type(i))"
   ]
  },
  {
   "cell_type": "code",
   "execution_count": 57,
   "id": "0b92afb8-da0a-41f5-8ee6-0751a3d435bd",
   "metadata": {},
   "outputs": [],
   "source": [
    "def determine_type(value):\n",
    "    \"\"\"Currently understood classes:\n",
    "    <class 'str'>\n",
    "    <class 'int'>\n",
    "    <class 'float'>\n",
    "    <class 'tuple'>\n",
    "    <class 'list'>\n",
    "    <class 'dict'>\n",
    "    \"\"\"\n",
    "    valut_type = type(value)\n",
    "    if t in (str,int,float):\n",
    "        return 'val'\n",
    "    elif t in (tuple,list):\n",
    "        return 'iter'\n",
    "    elif t in (dict):\n",
    "        return 'dict'\n",
    "    else:\n",
    "        return 'other'\n",
    "        \n",
    "\n",
    "class DataFrame:\n",
    "    '''\n",
    "    Simplistic DataFrame\n",
    "\n",
    "    Functions\n",
    "    ---------\n",
    "    read_csv\n",
    "    to_csv\n",
    "    apply\n",
    "    '''\n",
    "    def __init__(self):\n",
    "        self.data = []\n",
    "        self.columns = []\n",
    "\n",
    "    def read_csv(self, file_path):\n",
    "        with open(file_path, 'r', newline='') as file:\n",
    "            csv_reader = csv.reader(file) # https://docs.python.org/3/library/csv.html\n",
    "            self.columns = next(csv_reader)\n",
    "            self.data = [row for row in csv_reader]\n",
    "\n",
    "    def to_csv(self, file_path):\n",
    "        with open(file_path, 'w', newline='') as file: # newline????\n",
    "            csv_writer = csv.writer(file) # https://docs.python.org/3/library/csv.html\n",
    "            csv_writer.writerow(self.columns)\n",
    "            csv_writer.writerows(self.data)\n",
    "\n",
    "    def __getitem__(self, key):\n",
    "        if isinstance(key, str):\n",
    "            return [row[self.columns.index(key)] for row in self.data]\n",
    "        elif isinstance(key, int):\n",
    "            return self.data[key]\n",
    "\n",
    "    def __setitem__(self, key, value):\n",
    "        if isinstance(key, str):\n",
    "            # assigns values to column key from iterable value\n",
    "            col_idx = self.columns.index(key)\n",
    "            for i, row in enumerate(self.data):\n",
    "                row[col_idx] = value[i]\n",
    "        elif isinstance(key, int):\n",
    "            # assigns value to row key\n",
    "            self.data[key] = value\n",
    "        \n",
    "\n",
    "    def __len__(self):\n",
    "        return len(self.data) # Could make it more efficient by keeping track of length throughout ops\n",
    "    \n",
    "    def __repr__(self):\n",
    "        # Human readable representation or informal, string, representation of the dataframe\n",
    "        return str(self.data)\n",
    "\n",
    "    def __iter__(self):\n",
    "        return iter(self.data)\n",
    "\n",
    "    def apply(self, func, column):\n",
    "        col_idx = self.columns.index(column)\n",
    "        for row in self.data:\n",
    "            row[col_idx] = func(row[col_idx])\n",
    "\n"
   ]
  },
  {
   "cell_type": "code",
   "execution_count": 62,
   "id": "05644141-f22b-421f-92c6-c68ef7f4059a",
   "metadata": {},
   "outputs": [
    {
     "data": {
      "text/plain": [
       "['a', 'b', 'c']"
      ]
     },
     "execution_count": 62,
     "metadata": {},
     "output_type": "execute_result"
    }
   ],
   "source": [
    "df['col_a']"
   ]
  }
 ],
 "metadata": {
  "kernelspec": {
   "display_name": "Python 3 (ipykernel)",
   "language": "python",
   "name": "python3"
  },
  "language_info": {
   "codemirror_mode": {
    "name": "ipython",
    "version": 3
   },
   "file_extension": ".py",
   "mimetype": "text/x-python",
   "name": "python",
   "nbconvert_exporter": "python",
   "pygments_lexer": "ipython3",
   "version": "3.11.8"
  }
 },
 "nbformat": 4,
 "nbformat_minor": 5
}
